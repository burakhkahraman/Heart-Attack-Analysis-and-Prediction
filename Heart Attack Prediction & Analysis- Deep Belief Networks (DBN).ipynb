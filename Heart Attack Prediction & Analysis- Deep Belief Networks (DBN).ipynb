{
 "cells": [
  {
   "cell_type": "code",
   "execution_count": 9,
   "id": "64b064ba",
   "metadata": {},
   "outputs": [],
   "source": [
    "import numpy as np\n",
    "import pandas as pd\n",
    "from keras.models import Sequential\n",
    "from keras.layers import Dense\n",
    "from keras.layers import Dropout\n",
    "from keras.layers import GaussianNoise\n",
    "from sklearn.model_selection import train_test_split\n",
    "from sklearn.preprocessing import StandardScaler"
   ]
  },
  {
   "cell_type": "code",
   "execution_count": 10,
   "id": "5fefeecc",
   "metadata": {},
   "outputs": [],
   "source": [
    "dataset = pd.read_csv(\"Heart_Disease.csv\")\n",
    "X = dataset.iloc[:, :-1].values\n",
    "y = dataset.iloc[:, -1].values"
   ]
  },
  {
   "cell_type": "code",
   "execution_count": 11,
   "id": "52bdc500",
   "metadata": {},
   "outputs": [],
   "source": [
    "sc = StandardScaler()\n",
    "X = sc.fit_transform(X)"
   ]
  },
  {
   "cell_type": "code",
   "execution_count": 12,
   "id": "6b0f2e67",
   "metadata": {},
   "outputs": [],
   "source": [
    "X_train, X_test, y_train, y_test = train_test_split(X, y, test_size=0.2, random_state=0)\n"
   ]
  },
  {
   "cell_type": "code",
   "execution_count": 13,
   "id": "153a9855",
   "metadata": {},
   "outputs": [],
   "source": [
    "model = Sequential()\n",
    "model.add(Dense(units=256, activation='relu', input_dim=13))\n",
    "model.add(GaussianNoise(0.2))\n",
    "model.add(Dropout(0.5))\n",
    "model.add(Dense(units=128, activation='relu'))\n",
    "model.add(GaussianNoise(0.2))\n",
    "model.add(Dropout(0.5))\n",
    "model.add(Dense(units=64, activation='relu'))\n",
    "model.add(GaussianNoise(0.2))\n",
    "model.add(Dropout(0.5))\n",
    "model.add(Dense(units=1, activation='sigmoid'))\n"
   ]
  },
  {
   "cell_type": "code",
   "execution_count": 14,
   "id": "7deda4d4",
   "metadata": {},
   "outputs": [],
   "source": [
    "model.compile(optimizer='adam', loss='binary_crossentropy', metrics=['accuracy'])\n"
   ]
  },
  {
   "cell_type": "code",
   "execution_count": 15,
   "id": "43dcc630",
   "metadata": {},
   "outputs": [
    {
     "name": "stdout",
     "output_type": "stream",
     "text": [
      "Epoch 1/100\n",
      "8/8 [==============================] - 1s 25ms/step - loss: 0.7596 - accuracy: 0.5579 - val_loss: 0.6095 - val_accuracy: 0.7869\n",
      "Epoch 2/100\n",
      "8/8 [==============================] - 0s 6ms/step - loss: 0.6893 - accuracy: 0.5413 - val_loss: 0.5790 - val_accuracy: 0.8525\n",
      "Epoch 3/100\n",
      "8/8 [==============================] - 0s 6ms/step - loss: 0.6830 - accuracy: 0.6198 - val_loss: 0.5458 - val_accuracy: 0.8197\n",
      "Epoch 4/100\n",
      "8/8 [==============================] - 0s 6ms/step - loss: 0.6392 - accuracy: 0.6240 - val_loss: 0.5048 - val_accuracy: 0.8361\n",
      "Epoch 5/100\n",
      "8/8 [==============================] - 0s 6ms/step - loss: 0.5679 - accuracy: 0.6777 - val_loss: 0.4667 - val_accuracy: 0.8525\n",
      "Epoch 6/100\n",
      "8/8 [==============================] - 0s 6ms/step - loss: 0.5479 - accuracy: 0.6942 - val_loss: 0.4302 - val_accuracy: 0.8361\n",
      "Epoch 7/100\n",
      "8/8 [==============================] - 0s 6ms/step - loss: 0.5523 - accuracy: 0.6818 - val_loss: 0.3944 - val_accuracy: 0.8525\n",
      "Epoch 8/100\n",
      "8/8 [==============================] - 0s 7ms/step - loss: 0.5164 - accuracy: 0.7397 - val_loss: 0.3726 - val_accuracy: 0.8689\n",
      "Epoch 9/100\n",
      "8/8 [==============================] - 0s 6ms/step - loss: 0.4574 - accuracy: 0.7562 - val_loss: 0.3552 - val_accuracy: 0.8689\n",
      "Epoch 10/100\n",
      "8/8 [==============================] - 0s 6ms/step - loss: 0.4538 - accuracy: 0.7893 - val_loss: 0.3436 - val_accuracy: 0.8689\n",
      "Epoch 11/100\n",
      "8/8 [==============================] - 0s 7ms/step - loss: 0.4103 - accuracy: 0.8058 - val_loss: 0.3359 - val_accuracy: 0.8689\n",
      "Epoch 12/100\n",
      "8/8 [==============================] - 0s 6ms/step - loss: 0.4433 - accuracy: 0.7893 - val_loss: 0.3339 - val_accuracy: 0.8689\n",
      "Epoch 13/100\n",
      "8/8 [==============================] - 0s 6ms/step - loss: 0.3927 - accuracy: 0.7934 - val_loss: 0.3319 - val_accuracy: 0.8525\n",
      "Epoch 14/100\n",
      "8/8 [==============================] - 0s 6ms/step - loss: 0.4557 - accuracy: 0.7851 - val_loss: 0.3322 - val_accuracy: 0.8525\n",
      "Epoch 15/100\n",
      "8/8 [==============================] - 0s 6ms/step - loss: 0.4338 - accuracy: 0.8347 - val_loss: 0.3336 - val_accuracy: 0.8525\n",
      "Epoch 16/100\n",
      "8/8 [==============================] - 0s 7ms/step - loss: 0.4326 - accuracy: 0.8058 - val_loss: 0.3360 - val_accuracy: 0.8361\n",
      "Epoch 17/100\n",
      "8/8 [==============================] - 0s 6ms/step - loss: 0.4422 - accuracy: 0.7975 - val_loss: 0.3381 - val_accuracy: 0.8525\n",
      "Epoch 18/100\n",
      "8/8 [==============================] - 0s 6ms/step - loss: 0.4037 - accuracy: 0.8264 - val_loss: 0.3400 - val_accuracy: 0.8525\n",
      "Epoch 19/100\n",
      "8/8 [==============================] - 0s 6ms/step - loss: 0.3909 - accuracy: 0.8388 - val_loss: 0.3404 - val_accuracy: 0.8689\n",
      "Epoch 20/100\n",
      "8/8 [==============================] - 0s 6ms/step - loss: 0.3602 - accuracy: 0.8264 - val_loss: 0.3384 - val_accuracy: 0.8689\n",
      "Epoch 21/100\n",
      "8/8 [==============================] - 0s 6ms/step - loss: 0.3854 - accuracy: 0.8512 - val_loss: 0.3394 - val_accuracy: 0.8689\n",
      "Epoch 22/100\n",
      "8/8 [==============================] - 0s 5ms/step - loss: 0.4336 - accuracy: 0.8058 - val_loss: 0.3394 - val_accuracy: 0.8689\n",
      "Epoch 23/100\n",
      "8/8 [==============================] - 0s 6ms/step - loss: 0.4299 - accuracy: 0.8058 - val_loss: 0.3423 - val_accuracy: 0.8689\n",
      "Epoch 24/100\n",
      "8/8 [==============================] - 0s 6ms/step - loss: 0.4215 - accuracy: 0.8347 - val_loss: 0.3424 - val_accuracy: 0.8689\n",
      "Epoch 25/100\n",
      "8/8 [==============================] - 0s 6ms/step - loss: 0.3436 - accuracy: 0.8388 - val_loss: 0.3416 - val_accuracy: 0.8689\n",
      "Epoch 26/100\n",
      "8/8 [==============================] - 0s 6ms/step - loss: 0.3719 - accuracy: 0.8264 - val_loss: 0.3395 - val_accuracy: 0.8689\n",
      "Epoch 27/100\n",
      "8/8 [==============================] - 0s 6ms/step - loss: 0.3296 - accuracy: 0.8471 - val_loss: 0.3374 - val_accuracy: 0.8689\n",
      "Epoch 28/100\n",
      "8/8 [==============================] - 0s 6ms/step - loss: 0.4076 - accuracy: 0.8140 - val_loss: 0.3364 - val_accuracy: 0.8689\n",
      "Epoch 29/100\n",
      "8/8 [==============================] - 0s 6ms/step - loss: 0.3454 - accuracy: 0.8264 - val_loss: 0.3337 - val_accuracy: 0.8852\n",
      "Epoch 30/100\n",
      "8/8 [==============================] - 0s 6ms/step - loss: 0.3716 - accuracy: 0.8306 - val_loss: 0.3355 - val_accuracy: 0.8852\n",
      "Epoch 31/100\n",
      "8/8 [==============================] - 0s 7ms/step - loss: 0.3801 - accuracy: 0.8182 - val_loss: 0.3360 - val_accuracy: 0.8852\n",
      "Epoch 32/100\n",
      "8/8 [==============================] - 0s 7ms/step - loss: 0.3628 - accuracy: 0.8471 - val_loss: 0.3372 - val_accuracy: 0.8852\n",
      "Epoch 33/100\n",
      "8/8 [==============================] - 0s 6ms/step - loss: 0.3889 - accuracy: 0.8264 - val_loss: 0.3358 - val_accuracy: 0.8852\n",
      "Epoch 34/100\n",
      "8/8 [==============================] - 0s 6ms/step - loss: 0.3487 - accuracy: 0.8512 - val_loss: 0.3365 - val_accuracy: 0.8852\n",
      "Epoch 35/100\n",
      "8/8 [==============================] - 0s 6ms/step - loss: 0.3428 - accuracy: 0.8595 - val_loss: 0.3388 - val_accuracy: 0.8852\n",
      "Epoch 36/100\n",
      "8/8 [==============================] - 0s 6ms/step - loss: 0.3582 - accuracy: 0.8554 - val_loss: 0.3430 - val_accuracy: 0.8852\n",
      "Epoch 37/100\n",
      "8/8 [==============================] - 0s 6ms/step - loss: 0.3555 - accuracy: 0.8595 - val_loss: 0.3454 - val_accuracy: 0.8852\n",
      "Epoch 38/100\n",
      "8/8 [==============================] - 0s 6ms/step - loss: 0.3481 - accuracy: 0.8678 - val_loss: 0.3477 - val_accuracy: 0.8852\n",
      "Epoch 39/100\n",
      "8/8 [==============================] - 0s 6ms/step - loss: 0.3248 - accuracy: 0.8595 - val_loss: 0.3516 - val_accuracy: 0.8689\n",
      "Epoch 40/100\n",
      "8/8 [==============================] - 0s 6ms/step - loss: 0.3614 - accuracy: 0.8430 - val_loss: 0.3541 - val_accuracy: 0.8689\n",
      "Epoch 41/100\n",
      "8/8 [==============================] - 0s 6ms/step - loss: 0.3520 - accuracy: 0.8471 - val_loss: 0.3544 - val_accuracy: 0.8689\n",
      "Epoch 42/100\n",
      "8/8 [==============================] - 0s 6ms/step - loss: 0.3518 - accuracy: 0.8058 - val_loss: 0.3571 - val_accuracy: 0.8525\n",
      "Epoch 43/100\n",
      "8/8 [==============================] - 0s 7ms/step - loss: 0.3003 - accuracy: 0.8884 - val_loss: 0.3567 - val_accuracy: 0.8525\n",
      "Epoch 44/100\n",
      "8/8 [==============================] - 0s 7ms/step - loss: 0.3261 - accuracy: 0.8512 - val_loss: 0.3570 - val_accuracy: 0.8689\n",
      "Epoch 45/100\n",
      "8/8 [==============================] - 0s 7ms/step - loss: 0.3457 - accuracy: 0.8471 - val_loss: 0.3550 - val_accuracy: 0.8689\n",
      "Epoch 46/100\n",
      "8/8 [==============================] - 0s 7ms/step - loss: 0.3480 - accuracy: 0.8554 - val_loss: 0.3559 - val_accuracy: 0.8852\n",
      "Epoch 47/100\n",
      "8/8 [==============================] - 0s 6ms/step - loss: 0.3534 - accuracy: 0.8306 - val_loss: 0.3594 - val_accuracy: 0.8689\n",
      "Epoch 48/100\n",
      "8/8 [==============================] - 0s 6ms/step - loss: 0.3534 - accuracy: 0.8347 - val_loss: 0.3558 - val_accuracy: 0.8852\n",
      "Epoch 49/100\n",
      "8/8 [==============================] - 0s 6ms/step - loss: 0.3176 - accuracy: 0.8719 - val_loss: 0.3552 - val_accuracy: 0.8852\n",
      "Epoch 50/100\n",
      "8/8 [==============================] - 0s 6ms/step - loss: 0.2727 - accuracy: 0.8967 - val_loss: 0.3568 - val_accuracy: 0.8852\n",
      "Epoch 51/100\n",
      "8/8 [==============================] - 0s 6ms/step - loss: 0.3189 - accuracy: 0.8636 - val_loss: 0.3595 - val_accuracy: 0.8689\n",
      "Epoch 52/100\n",
      "8/8 [==============================] - 0s 6ms/step - loss: 0.3232 - accuracy: 0.8760 - val_loss: 0.3582 - val_accuracy: 0.8852\n",
      "Epoch 53/100\n",
      "8/8 [==============================] - 0s 6ms/step - loss: 0.2866 - accuracy: 0.8554 - val_loss: 0.3575 - val_accuracy: 0.8852\n",
      "Epoch 54/100\n",
      "8/8 [==============================] - 0s 7ms/step - loss: 0.3047 - accuracy: 0.8595 - val_loss: 0.3527 - val_accuracy: 0.8852\n",
      "Epoch 55/100\n",
      "8/8 [==============================] - 0s 6ms/step - loss: 0.3543 - accuracy: 0.8554 - val_loss: 0.3518 - val_accuracy: 0.8852\n",
      "Epoch 56/100\n",
      "8/8 [==============================] - 0s 6ms/step - loss: 0.3286 - accuracy: 0.8140 - val_loss: 0.3514 - val_accuracy: 0.8852\n",
      "Epoch 57/100\n",
      "8/8 [==============================] - 0s 7ms/step - loss: 0.3558 - accuracy: 0.8512 - val_loss: 0.3518 - val_accuracy: 0.8852\n",
      "Epoch 58/100\n",
      "8/8 [==============================] - 0s 6ms/step - loss: 0.2820 - accuracy: 0.8884 - val_loss: 0.3504 - val_accuracy: 0.8852\n",
      "Epoch 59/100\n",
      "8/8 [==============================] - 0s 6ms/step - loss: 0.3347 - accuracy: 0.8595 - val_loss: 0.3479 - val_accuracy: 0.8852\n",
      "Epoch 60/100\n",
      "8/8 [==============================] - 0s 6ms/step - loss: 0.2864 - accuracy: 0.8843 - val_loss: 0.3496 - val_accuracy: 0.8852\n",
      "Epoch 61/100\n",
      "8/8 [==============================] - 0s 6ms/step - loss: 0.3031 - accuracy: 0.8595 - val_loss: 0.3509 - val_accuracy: 0.8852\n",
      "Epoch 62/100\n",
      "8/8 [==============================] - 0s 6ms/step - loss: 0.2846 - accuracy: 0.9091 - val_loss: 0.3487 - val_accuracy: 0.8852\n",
      "Epoch 63/100\n",
      "8/8 [==============================] - 0s 6ms/step - loss: 0.2962 - accuracy: 0.8554 - val_loss: 0.3471 - val_accuracy: 0.8852\n",
      "Epoch 64/100\n",
      "8/8 [==============================] - 0s 6ms/step - loss: 0.3101 - accuracy: 0.8471 - val_loss: 0.3464 - val_accuracy: 0.8852\n",
      "Epoch 65/100\n",
      "8/8 [==============================] - 0s 6ms/step - loss: 0.3615 - accuracy: 0.8471 - val_loss: 0.3512 - val_accuracy: 0.8689\n",
      "Epoch 66/100\n",
      "8/8 [==============================] - 0s 6ms/step - loss: 0.2878 - accuracy: 0.8678 - val_loss: 0.3561 - val_accuracy: 0.8525\n",
      "Epoch 67/100\n",
      "8/8 [==============================] - 0s 7ms/step - loss: 0.3158 - accuracy: 0.8595 - val_loss: 0.3573 - val_accuracy: 0.8689\n",
      "Epoch 68/100\n",
      "8/8 [==============================] - 0s 6ms/step - loss: 0.2849 - accuracy: 0.8802 - val_loss: 0.3648 - val_accuracy: 0.8852\n",
      "Epoch 69/100\n",
      "8/8 [==============================] - 0s 5ms/step - loss: 0.2355 - accuracy: 0.8884 - val_loss: 0.3687 - val_accuracy: 0.8852\n",
      "Epoch 70/100\n",
      "8/8 [==============================] - 0s 6ms/step - loss: 0.3049 - accuracy: 0.8430 - val_loss: 0.3711 - val_accuracy: 0.8852\n",
      "Epoch 71/100\n",
      "8/8 [==============================] - 0s 5ms/step - loss: 0.3122 - accuracy: 0.8430 - val_loss: 0.3713 - val_accuracy: 0.8852\n",
      "Epoch 72/100\n",
      "8/8 [==============================] - 0s 6ms/step - loss: 0.3105 - accuracy: 0.8802 - val_loss: 0.3700 - val_accuracy: 0.8852\n",
      "Epoch 73/100\n",
      "8/8 [==============================] - 0s 6ms/step - loss: 0.2861 - accuracy: 0.8760 - val_loss: 0.3689 - val_accuracy: 0.8852\n",
      "Epoch 74/100\n",
      "8/8 [==============================] - 0s 6ms/step - loss: 0.3121 - accuracy: 0.8554 - val_loss: 0.3640 - val_accuracy: 0.8852\n",
      "Epoch 75/100\n",
      "8/8 [==============================] - 0s 6ms/step - loss: 0.2785 - accuracy: 0.8595 - val_loss: 0.3618 - val_accuracy: 0.8852\n",
      "Epoch 76/100\n",
      "8/8 [==============================] - 0s 5ms/step - loss: 0.2875 - accuracy: 0.8595 - val_loss: 0.3587 - val_accuracy: 0.8852\n",
      "Epoch 77/100\n",
      "8/8 [==============================] - 0s 5ms/step - loss: 0.3260 - accuracy: 0.8554 - val_loss: 0.3559 - val_accuracy: 0.9016\n",
      "Epoch 78/100\n",
      "8/8 [==============================] - 0s 6ms/step - loss: 0.2848 - accuracy: 0.8471 - val_loss: 0.3555 - val_accuracy: 0.9016\n",
      "Epoch 79/100\n",
      "8/8 [==============================] - 0s 6ms/step - loss: 0.2896 - accuracy: 0.8636 - val_loss: 0.3561 - val_accuracy: 0.8852\n",
      "Epoch 80/100\n",
      "8/8 [==============================] - 0s 5ms/step - loss: 0.2565 - accuracy: 0.8926 - val_loss: 0.3588 - val_accuracy: 0.8852\n",
      "Epoch 81/100\n",
      "8/8 [==============================] - 0s 6ms/step - loss: 0.2818 - accuracy: 0.8719 - val_loss: 0.3617 - val_accuracy: 0.8852\n",
      "Epoch 82/100\n",
      "8/8 [==============================] - 0s 6ms/step - loss: 0.3334 - accuracy: 0.8430 - val_loss: 0.3636 - val_accuracy: 0.8852\n",
      "Epoch 83/100\n",
      "8/8 [==============================] - 0s 6ms/step - loss: 0.2609 - accuracy: 0.8843 - val_loss: 0.3672 - val_accuracy: 0.8852\n",
      "Epoch 84/100\n",
      "8/8 [==============================] - 0s 6ms/step - loss: 0.2716 - accuracy: 0.8967 - val_loss: 0.3637 - val_accuracy: 0.9016\n",
      "Epoch 85/100\n",
      "8/8 [==============================] - 0s 6ms/step - loss: 0.2802 - accuracy: 0.8719 - val_loss: 0.3606 - val_accuracy: 0.8852\n",
      "Epoch 86/100\n",
      "8/8 [==============================] - 0s 6ms/step - loss: 0.2810 - accuracy: 0.8719 - val_loss: 0.3590 - val_accuracy: 0.9016\n",
      "Epoch 87/100\n",
      "8/8 [==============================] - 0s 6ms/step - loss: 0.3067 - accuracy: 0.8760 - val_loss: 0.3574 - val_accuracy: 0.8852\n",
      "Epoch 88/100\n",
      "8/8 [==============================] - 0s 7ms/step - loss: 0.2405 - accuracy: 0.9050 - val_loss: 0.3563 - val_accuracy: 0.8852\n",
      "Epoch 89/100\n",
      "8/8 [==============================] - 0s 7ms/step - loss: 0.2762 - accuracy: 0.8843 - val_loss: 0.3578 - val_accuracy: 0.8852\n",
      "Epoch 90/100\n",
      "8/8 [==============================] - 0s 6ms/step - loss: 0.2880 - accuracy: 0.8884 - val_loss: 0.3565 - val_accuracy: 0.8852\n",
      "Epoch 91/100\n",
      "8/8 [==============================] - 0s 6ms/step - loss: 0.2597 - accuracy: 0.8926 - val_loss: 0.3524 - val_accuracy: 0.8852\n",
      "Epoch 92/100\n",
      "8/8 [==============================] - 0s 6ms/step - loss: 0.2454 - accuracy: 0.8678 - val_loss: 0.3510 - val_accuracy: 0.8852\n",
      "Epoch 93/100\n",
      "8/8 [==============================] - 0s 6ms/step - loss: 0.2433 - accuracy: 0.8967 - val_loss: 0.3533 - val_accuracy: 0.9016\n",
      "Epoch 94/100\n",
      "8/8 [==============================] - 0s 6ms/step - loss: 0.2534 - accuracy: 0.8802 - val_loss: 0.3537 - val_accuracy: 0.8852\n",
      "Epoch 95/100\n",
      "8/8 [==============================] - 0s 6ms/step - loss: 0.2588 - accuracy: 0.8719 - val_loss: 0.3578 - val_accuracy: 0.8852\n",
      "Epoch 96/100\n",
      "8/8 [==============================] - 0s 6ms/step - loss: 0.2914 - accuracy: 0.8802 - val_loss: 0.3611 - val_accuracy: 0.8852\n",
      "Epoch 97/100\n",
      "8/8 [==============================] - 0s 7ms/step - loss: 0.3403 - accuracy: 0.8595 - val_loss: 0.3623 - val_accuracy: 0.8852\n",
      "Epoch 98/100\n",
      "8/8 [==============================] - 0s 8ms/step - loss: 0.2611 - accuracy: 0.8926 - val_loss: 0.3586 - val_accuracy: 0.8852\n",
      "Epoch 99/100\n",
      "8/8 [==============================] - 0s 7ms/step - loss: 0.2393 - accuracy: 0.8802 - val_loss: 0.3542 - val_accuracy: 0.8852\n",
      "Epoch 100/100\n",
      "8/8 [==============================] - 0s 6ms/step - loss: 0.2318 - accuracy: 0.9174 - val_loss: 0.3505 - val_accuracy: 0.8852\n"
     ]
    },
    {
     "data": {
      "text/plain": [
       "<keras.callbacks.History at 0x16eccf7b7f0>"
      ]
     },
     "execution_count": 15,
     "metadata": {},
     "output_type": "execute_result"
    }
   ],
   "source": [
    "model.fit(X_train, y_train, epochs=100, batch_size=32, validation_data=(X_test, y_test))\n"
   ]
  },
  {
   "cell_type": "code",
   "execution_count": 50,
   "id": "905a3eca",
   "metadata": {},
   "outputs": [
    {
     "name": "stdout",
     "output_type": "stream",
     "text": [
      "2/2 [==============================] - 0s 2ms/step\n"
     ]
    }
   ],
   "source": [
    "y_pred = model.predict(X_test)\n",
    "y_pred = (y_pred > 0.5)"
   ]
  },
  {
   "cell_type": "code",
   "execution_count": 63,
   "id": "4a935432",
   "metadata": {},
   "outputs": [
    {
     "name": "stdout",
     "output_type": "stream",
     "text": [
      "[[22  5]\n",
      " [ 2 32]]\n"
     ]
    }
   ],
   "source": [
    "from sklearn.metrics import confusion_matrix\n",
    "cf_matrix = confusion_matrix(y_test, y_pred)\n",
    "print(cf_matrix)"
   ]
  },
  {
   "cell_type": "code",
   "execution_count": 64,
   "id": "46244550",
   "metadata": {},
   "outputs": [
    {
     "name": "stdout",
     "output_type": "stream",
     "text": [
      "Accuracy: 0.8852459016393442\n",
      "Precision: 0.8648648648648649\n",
      "Recall: 0.9411764705882353\n",
      "F1 Score: 0.9014084507042254\n"
     ]
    }
   ],
   "source": [
    "from sklearn.metrics import accuracy_score, precision_score, recall_score, f1_score\n",
    "\n",
    "# Calculate the accuracy\n",
    "accuracy = accuracy_score(y_test, y_pred)\n",
    "\n",
    "# Calculate the precision\n",
    "precision = precision_score(y_test, y_pred)\n",
    "\n",
    "# Calculate the recall\n",
    "recall = recall_score(y_test, y_pred)\n",
    "\n",
    "# Calculate the f1 score\n",
    "f1 = f1_score(y_test, y_pred)\n",
    "\n",
    "# Print the results\n",
    "print(\"Accuracy:\", accuracy)\n",
    "print(\"Precision:\", precision)\n",
    "print(\"Recall:\", recall)\n",
    "print(\"F1 Score:\", f1)"
   ]
  },
  {
   "cell_type": "code",
   "execution_count": null,
   "id": "a083e5bf",
   "metadata": {},
   "outputs": [],
   "source": []
  }
 ],
 "metadata": {
  "kernelspec": {
   "display_name": "Python 3 (ipykernel)",
   "language": "python",
   "name": "python3"
  },
  "language_info": {
   "codemirror_mode": {
    "name": "ipython",
    "version": 3
   },
   "file_extension": ".py",
   "mimetype": "text/x-python",
   "name": "python",
   "nbconvert_exporter": "python",
   "pygments_lexer": "ipython3",
   "version": "3.9.13"
  }
 },
 "nbformat": 4,
 "nbformat_minor": 5
}
