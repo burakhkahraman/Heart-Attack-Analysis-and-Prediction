{
 "cells": [
  {
   "cell_type": "code",
   "execution_count": 1,
   "id": "a9167d81",
   "metadata": {},
   "outputs": [],
   "source": [
    "import pandas as pd\n",
    "import numpy as np\n",
    "from sklearn.model_selection import train_test_split\n",
    "from keras.models import Sequential\n",
    "from keras.layers import Dense, LSTM\n"
   ]
  },
  {
   "cell_type": "code",
   "execution_count": 2,
   "id": "5cb0af3a",
   "metadata": {},
   "outputs": [],
   "source": [
    "dataset = pd.read_csv('Heart_Disease.csv')"
   ]
  },
  {
   "cell_type": "code",
   "execution_count": 3,
   "id": "04c9afb8",
   "metadata": {},
   "outputs": [],
   "source": [
    "X = dataset.iloc[:, :-1].values\n",
    "y = dataset.iloc[:, -1].values"
   ]
  },
  {
   "cell_type": "code",
   "execution_count": 4,
   "id": "6ce2cb3d",
   "metadata": {},
   "outputs": [],
   "source": [
    "X_train, X_test, y_train, y_test = train_test_split(X, y, test_size=0.2, random_state=42)\n"
   ]
  },
  {
   "cell_type": "code",
   "execution_count": 5,
   "id": "521f3261",
   "metadata": {},
   "outputs": [],
   "source": [
    "X_train = np.reshape(X_train, (X_train.shape[0], X_train.shape[1], 1))\n",
    "X_test = np.reshape(X_test, (X_test.shape[0], X_test.shape[1], 1))"
   ]
  },
  {
   "cell_type": "code",
   "execution_count": 6,
   "id": "dfa4c432",
   "metadata": {},
   "outputs": [],
   "source": [
    "model = Sequential()\n",
    "model.add(LSTM(64, input_shape=(X_train.shape[1], 1)))\n",
    "model.add(Dense(1, activation='sigmoid'))\n",
    "model.compile(loss='binary_crossentropy', optimizer='adam', metrics=['accuracy'])\n"
   ]
  },
  {
   "cell_type": "code",
   "execution_count": 7,
   "id": "396b394d",
   "metadata": {},
   "outputs": [
    {
     "name": "stdout",
     "output_type": "stream",
     "text": [
      "Epoch 1/50\n",
      "8/8 [==============================] - 2s 77ms/step - loss: 0.7082 - accuracy: 0.5496 - val_loss: 0.6993 - val_accuracy: 0.5410\n",
      "Epoch 2/50\n",
      "8/8 [==============================] - 0s 12ms/step - loss: 0.6908 - accuracy: 0.5537 - val_loss: 0.6839 - val_accuracy: 0.5738\n",
      "Epoch 3/50\n",
      "8/8 [==============================] - 0s 15ms/step - loss: 0.6756 - accuracy: 0.5579 - val_loss: 0.6682 - val_accuracy: 0.5410\n",
      "Epoch 4/50\n",
      "8/8 [==============================] - 0s 15ms/step - loss: 0.6625 - accuracy: 0.5620 - val_loss: 0.6478 - val_accuracy: 0.7049\n",
      "Epoch 5/50\n",
      "8/8 [==============================] - 0s 14ms/step - loss: 0.6400 - accuracy: 0.7231 - val_loss: 0.6217 - val_accuracy: 0.7705\n",
      "Epoch 6/50\n",
      "8/8 [==============================] - 0s 16ms/step - loss: 0.6166 - accuracy: 0.7521 - val_loss: 0.5841 - val_accuracy: 0.7377\n",
      "Epoch 7/50\n",
      "8/8 [==============================] - 0s 16ms/step - loss: 0.5755 - accuracy: 0.7397 - val_loss: 0.5331 - val_accuracy: 0.7377\n",
      "Epoch 8/50\n",
      "8/8 [==============================] - 0s 26ms/step - loss: 0.5339 - accuracy: 0.7893 - val_loss: 0.5027 - val_accuracy: 0.7869\n",
      "Epoch 9/50\n",
      "8/8 [==============================] - 0s 20ms/step - loss: 0.5586 - accuracy: 0.7190 - val_loss: 0.4645 - val_accuracy: 0.8033\n",
      "Epoch 10/50\n",
      "8/8 [==============================] - 0s 12ms/step - loss: 0.5117 - accuracy: 0.7645 - val_loss: 0.4573 - val_accuracy: 0.8197\n",
      "Epoch 11/50\n",
      "8/8 [==============================] - 0s 13ms/step - loss: 0.4874 - accuracy: 0.7893 - val_loss: 0.4601 - val_accuracy: 0.8197\n",
      "Epoch 12/50\n",
      "8/8 [==============================] - 0s 14ms/step - loss: 0.4848 - accuracy: 0.7603 - val_loss: 0.4445 - val_accuracy: 0.8197\n",
      "Epoch 13/50\n",
      "8/8 [==============================] - 0s 16ms/step - loss: 0.4773 - accuracy: 0.7851 - val_loss: 0.4436 - val_accuracy: 0.8197\n",
      "Epoch 14/50\n",
      "8/8 [==============================] - 0s 21ms/step - loss: 0.4836 - accuracy: 0.7851 - val_loss: 0.4290 - val_accuracy: 0.8197\n",
      "Epoch 15/50\n",
      "8/8 [==============================] - 0s 18ms/step - loss: 0.5011 - accuracy: 0.7273 - val_loss: 0.4433 - val_accuracy: 0.8033\n",
      "Epoch 16/50\n",
      "8/8 [==============================] - 0s 15ms/step - loss: 0.5108 - accuracy: 0.7603 - val_loss: 0.4501 - val_accuracy: 0.8197\n",
      "Epoch 17/50\n",
      "8/8 [==============================] - 0s 16ms/step - loss: 0.4712 - accuracy: 0.7810 - val_loss: 0.4234 - val_accuracy: 0.8361\n",
      "Epoch 18/50\n",
      "8/8 [==============================] - 0s 18ms/step - loss: 0.4716 - accuracy: 0.7893 - val_loss: 0.4239 - val_accuracy: 0.8197\n",
      "Epoch 19/50\n",
      "8/8 [==============================] - 0s 14ms/step - loss: 0.4660 - accuracy: 0.7851 - val_loss: 0.4123 - val_accuracy: 0.8525\n",
      "Epoch 20/50\n",
      "8/8 [==============================] - 0s 12ms/step - loss: 0.4618 - accuracy: 0.7975 - val_loss: 0.4117 - val_accuracy: 0.8525\n",
      "Epoch 21/50\n",
      "8/8 [==============================] - 0s 14ms/step - loss: 0.4556 - accuracy: 0.7769 - val_loss: 0.4038 - val_accuracy: 0.8525\n",
      "Epoch 22/50\n",
      "8/8 [==============================] - 0s 14ms/step - loss: 0.4542 - accuracy: 0.8017 - val_loss: 0.4039 - val_accuracy: 0.8525\n",
      "Epoch 23/50\n",
      "8/8 [==============================] - 0s 13ms/step - loss: 0.4442 - accuracy: 0.8017 - val_loss: 0.4027 - val_accuracy: 0.8525\n",
      "Epoch 24/50\n",
      "8/8 [==============================] - 0s 13ms/step - loss: 0.4407 - accuracy: 0.8182 - val_loss: 0.4009 - val_accuracy: 0.8525\n",
      "Epoch 25/50\n",
      "8/8 [==============================] - 0s 11ms/step - loss: 0.4518 - accuracy: 0.7727 - val_loss: 0.3967 - val_accuracy: 0.8525\n",
      "Epoch 26/50\n",
      "8/8 [==============================] - 0s 13ms/step - loss: 0.4698 - accuracy: 0.7893 - val_loss: 0.4181 - val_accuracy: 0.8689\n",
      "Epoch 27/50\n",
      "8/8 [==============================] - 0s 14ms/step - loss: 0.4649 - accuracy: 0.7975 - val_loss: 0.3920 - val_accuracy: 0.8525\n",
      "Epoch 28/50\n",
      "8/8 [==============================] - 0s 14ms/step - loss: 0.4595 - accuracy: 0.7603 - val_loss: 0.3957 - val_accuracy: 0.8689\n",
      "Epoch 29/50\n",
      "8/8 [==============================] - 0s 15ms/step - loss: 0.4398 - accuracy: 0.8264 - val_loss: 0.3913 - val_accuracy: 0.8689\n",
      "Epoch 30/50\n",
      "8/8 [==============================] - 0s 14ms/step - loss: 0.4435 - accuracy: 0.8058 - val_loss: 0.3907 - val_accuracy: 0.8689\n",
      "Epoch 31/50\n",
      "8/8 [==============================] - 0s 14ms/step - loss: 0.4319 - accuracy: 0.8140 - val_loss: 0.3851 - val_accuracy: 0.8689\n",
      "Epoch 32/50\n",
      "8/8 [==============================] - 0s 13ms/step - loss: 0.4305 - accuracy: 0.8099 - val_loss: 0.3959 - val_accuracy: 0.8689\n",
      "Epoch 33/50\n",
      "8/8 [==============================] - 0s 14ms/step - loss: 0.4326 - accuracy: 0.8017 - val_loss: 0.3781 - val_accuracy: 0.8852\n",
      "Epoch 34/50\n",
      "8/8 [==============================] - 0s 15ms/step - loss: 0.4226 - accuracy: 0.8099 - val_loss: 0.3973 - val_accuracy: 0.8525\n",
      "Epoch 35/50\n",
      "8/8 [==============================] - 0s 14ms/step - loss: 0.4317 - accuracy: 0.8099 - val_loss: 0.3766 - val_accuracy: 0.8852\n",
      "Epoch 36/50\n",
      "8/8 [==============================] - 0s 19ms/step - loss: 0.4222 - accuracy: 0.8099 - val_loss: 0.3915 - val_accuracy: 0.8525\n",
      "Epoch 37/50\n",
      "8/8 [==============================] - 0s 15ms/step - loss: 0.4210 - accuracy: 0.8099 - val_loss: 0.3694 - val_accuracy: 0.9016\n",
      "Epoch 38/50\n",
      "8/8 [==============================] - 0s 15ms/step - loss: 0.4338 - accuracy: 0.8017 - val_loss: 0.3819 - val_accuracy: 0.8689\n",
      "Epoch 39/50\n",
      "8/8 [==============================] - 0s 13ms/step - loss: 0.4322 - accuracy: 0.8058 - val_loss: 0.3714 - val_accuracy: 0.8852\n",
      "Epoch 40/50\n",
      "8/8 [==============================] - 0s 14ms/step - loss: 0.4185 - accuracy: 0.8058 - val_loss: 0.3715 - val_accuracy: 0.8689\n",
      "Epoch 41/50\n",
      "8/8 [==============================] - 0s 15ms/step - loss: 0.4173 - accuracy: 0.8140 - val_loss: 0.3678 - val_accuracy: 0.8852\n",
      "Epoch 42/50\n",
      "8/8 [==============================] - 0s 14ms/step - loss: 0.4215 - accuracy: 0.8058 - val_loss: 0.3641 - val_accuracy: 0.9016\n",
      "Epoch 43/50\n",
      "8/8 [==============================] - 0s 13ms/step - loss: 0.4148 - accuracy: 0.8182 - val_loss: 0.3702 - val_accuracy: 0.8689\n",
      "Epoch 44/50\n",
      "8/8 [==============================] - 0s 15ms/step - loss: 0.4082 - accuracy: 0.8182 - val_loss: 0.3677 - val_accuracy: 0.8689\n",
      "Epoch 45/50\n",
      "8/8 [==============================] - 0s 14ms/step - loss: 0.4125 - accuracy: 0.8058 - val_loss: 0.4005 - val_accuracy: 0.8525\n",
      "Epoch 46/50\n",
      "8/8 [==============================] - 0s 14ms/step - loss: 0.4186 - accuracy: 0.8058 - val_loss: 0.3609 - val_accuracy: 0.9016\n",
      "Epoch 47/50\n",
      "8/8 [==============================] - 0s 14ms/step - loss: 0.4107 - accuracy: 0.7975 - val_loss: 0.3854 - val_accuracy: 0.8525\n",
      "Epoch 48/50\n",
      "8/8 [==============================] - 0s 18ms/step - loss: 0.4177 - accuracy: 0.7975 - val_loss: 0.3825 - val_accuracy: 0.8197\n",
      "Epoch 49/50\n",
      "8/8 [==============================] - 0s 15ms/step - loss: 0.4512 - accuracy: 0.8017 - val_loss: 0.4398 - val_accuracy: 0.8361\n",
      "Epoch 50/50\n",
      "8/8 [==============================] - 0s 13ms/step - loss: 0.4235 - accuracy: 0.7893 - val_loss: 0.3674 - val_accuracy: 0.9016\n"
     ]
    },
    {
     "data": {
      "text/plain": [
       "<keras.callbacks.History at 0x15bda02ff10>"
      ]
     },
     "execution_count": 7,
     "metadata": {},
     "output_type": "execute_result"
    }
   ],
   "source": [
    "model.fit(X_train, y_train, epochs=50, batch_size=32, validation_data=(X_test, y_test))\n"
   ]
  },
  {
   "cell_type": "code",
   "execution_count": 8,
   "id": "7bcb11d8",
   "metadata": {},
   "outputs": [
    {
     "name": "stdout",
     "output_type": "stream",
     "text": [
      "2/2 [==============================] - 0s 5ms/step\n"
     ]
    }
   ],
   "source": [
    "y_pred = model.predict(X_test)\n"
   ]
  },
  {
   "cell_type": "code",
   "execution_count": 9,
   "id": "bc28dead",
   "metadata": {},
   "outputs": [],
   "source": [
    "from sklearn.metrics import accuracy_score\n"
   ]
  },
  {
   "cell_type": "code",
   "execution_count": 10,
   "id": "a543c43a",
   "metadata": {},
   "outputs": [
    {
     "name": "stdout",
     "output_type": "stream",
     "text": [
      "Accuracy: 90.16%\n"
     ]
    }
   ],
   "source": [
    "y_pred = np.round(y_pred)\n",
    "accuracy = accuracy_score(y_test, y_pred)\n",
    "print('Accuracy: %.2f%%' % (accuracy * 100))"
   ]
  }
 ],
 "metadata": {
  "kernelspec": {
   "display_name": "Python 3 (ipykernel)",
   "language": "python",
   "name": "python3"
  },
  "language_info": {
   "codemirror_mode": {
    "name": "ipython",
    "version": 3
   },
   "file_extension": ".py",
   "mimetype": "text/x-python",
   "name": "python",
   "nbconvert_exporter": "python",
   "pygments_lexer": "ipython3",
   "version": "3.9.13"
  }
 },
 "nbformat": 4,
 "nbformat_minor": 5
}
